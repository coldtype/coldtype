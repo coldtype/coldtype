{
  "cells": [
    {
      "cell_type": "code",
      "execution_count": null,
      "metadata": {},
      "outputs": [],
      "source": [
        "dict(\n",
        "    author=\"Rob Stenson\",\n",
        "    title=\"Geometry\",\n",
        "    date=\"11/29/2022\"\n",
        ")"
      ]
    },
    {
      "cell_type": "code",
      "execution_count": 1,
      "metadata": {
        "id": "vQqKKBu6fSZh"
      },
      "outputs": [],
      "source": [
        "#hide-publish\n",
        "%pip install -q coldtype[notebook]\n",
        "#!pip install -q \"coldtype[notebook] @ git+https://github.com/goodhertz/coldtype\"\n",
        "from coldtype.notebook import *"
      ]
    },
    {
      "cell_type": "markdown",
      "metadata": {
        "id": "CwcUbsLlm-dr"
      },
      "source": [
        "## Dividing Rect(angles)\n",
        "\n",
        "One of the core concepts of Coldtype is the use of the `coldtype.geometry.Rect` class to encapsulate rectangles and methods for slicing & dicing them.\n",
        "\n",
        "The most basic rectangle is the one passed to a `renderable`, i.e. the `r` variable you get when you define a renderable function, like `def r1(r)` below. So to fill the entire canvas with a single random color, you can do something like this:"
      ]
    },
    {
      "cell_type": "code",
      "execution_count": 2,
      "metadata": {
        "colab": {
          "base_uri": "https://localhost:8080/",
          "height": 171
        },
        "id": "A8_pGQ6vfe7j",
        "outputId": "b1e522a5-3098-40e5-c18b-7d62f99ed524"
      },
      "outputs": [
        {
          "data": {
            "text/html": [
              "<img width=350.0 src='data:image/png;base64,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'/>"
            ],
            "text/plain": [
              "<IPython.core.display.HTML object>"
            ]
          },
          "metadata": {},
          "output_type": "display_data"
        }
      ],
      "source": [
        "@renderable((700, 300))\n",
        "def r1(r):\n",
        "    return P(r).f(hsl(random()))"
      ]
    },
    {
      "attachments": {},
      "cell_type": "markdown",
      "metadata": {
        "id": "ckjOCzI3np1A"
      },
      "source": [
        "## Inset, offset, take, divide, subdivide...\n",
        "\n",
        "All `@renderables` have a rectangle associated with them (the full rectangle of the artifact canvas), and all rendering functions are passed rectangles, either via the first and only argument, or as a property of the first argument, as is the case with @animation renderables, which pass a Frame argument that makes the rectangle accessible via f.a.r (where f is the Frame).\n",
        "\n",
        "But we’re getting ahead of ourselves.\n",
        "\n",
        "A Rect has lots of methods, though the most useful ones are `inset`, `offset`, `take`, `divide`, and `subdivide`.\n",
        "\n",
        "Here’s a simple example that insets, offsets, subtracts, and then subtracts again. (Probably not something I’d write in reality, but good for demonstration purposes.)"
      ]
    },
    {
      "cell_type": "code",
      "execution_count": 4,
      "metadata": {
        "colab": {
          "base_uri": "https://localhost:8080/",
          "height": 171
        },
        "id": "CH7Y341Ffr_M",
        "outputId": "7e634816-72a2-4680-832c-e8c966c32a54"
      },
      "outputs": [
        {
          "data": {
            "text/html": [
              "<img width=350.0 src='data:image/png;base64,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'/>"
            ],
            "text/plain": [
              "<IPython.core.display.HTML object>"
            ]
          },
          "metadata": {},
          "output_type": "display_data"
        }
      ],
      "source": [
        "@renderable((700, 300))\n",
        "def r2(r):\n",
        "    r1 = (r.take(0.5, \"W\") # \"W\" for \"West\"\n",
        "        .inset(20, 20)\n",
        "        .offset(0, 10)\n",
        "        .subtract(20, \"E\")\n",
        "        .subtract(10, \"N\"))\n",
        "    \n",
        "    return (P().rect(r1)\n",
        "        .f(hsl(0.5)))"
      ]
    },
    {
      "cell_type": "markdown",
      "metadata": {
        "id": "-OMT57J2n5UW"
      },
      "source": [
        "## More complex slicing & dicing\n",
        "\n",
        "You may have noticed that the rect functions take a mix of float and int arguments. That’s because a value less than `1.0` will be treated, by the dividing-series of rect functions, as percentages of the dimension implied by the edge argument. So in that `take(0.5, \"W\")` above, the `0.5` specifies 50% of the width of the rectangle (width because of the `W` edge argument).\n",
        "\n",
        "Here’s an example that divides a rectangle into left and right rectangles, and shows another useful method, `square` (which takes the largest square possible from the center of the given rectangle)."
      ]
    },
    {
      "cell_type": "code",
      "execution_count": 6,
      "metadata": {
        "colab": {
          "base_uri": "https://localhost:8080/",
          "height": 171
        },
        "id": "40sYBsjRmdL4",
        "outputId": "3c23d29d-e029-4720-f17a-c893a2758af7"
      },
      "outputs": [
        {
          "data": {
            "text/html": [
              "<img width=350.0 src='data:image/png;base64,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'/>"
            ],
            "text/plain": [
              "<IPython.core.display.HTML object>"
            ]
          },
          "metadata": {},
          "output_type": "display_data"
        }
      ],
      "source": [
        "@renderable((700, 300))\n",
        "def lr(r):\n",
        "    ri = r.inset(50, 50)\n",
        "    left, right = ri.divide(0.5, \"W\")\n",
        "    return P(\n",
        "        P().rect(ri).fssw(-1, 0.75, 2),\n",
        "        P().oval(left\n",
        "                .square()\n",
        "                .offset(100, 0))\n",
        "            .f(hsl(0.6, a=0.5)),\n",
        "        P().oval(right\n",
        "                .square()\n",
        "                .inset(-50))\n",
        "            .f(hsl(0, a=0.5)))"
      ]
    },
    {
      "cell_type": "markdown",
      "metadata": {
        "id": "Hh48BjajoGFA"
      },
      "source": [
        "Here’s an example using subdivide to subdivide a larger rectangle into smaller pieces, essentially columns."
      ]
    },
    {
      "cell_type": "code",
      "execution_count": 8,
      "metadata": {
        "colab": {
          "base_uri": "https://localhost:8080/",
          "height": 171
        },
        "id": "qtieb1K9mzhc",
        "outputId": "f58b84b5-b73d-492e-c3a8-742597f31c89"
      },
      "outputs": [
        {
          "data": {
            "text/html": [
              "<img width=350.0 src='data:image/png;base64,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'/>"
            ],
            "text/plain": [
              "<IPython.core.display.HTML object>"
            ]
          },
          "metadata": {},
          "output_type": "display_data"
        }
      ],
      "source": [
        "@renderable((700, 300))\n",
        "def columns(r):\n",
        "    cs = r.inset(10).subdivide(5, \"W\")\n",
        "    return P.Enumerate(cs, lambda x:\n",
        "        P(x.el.inset(10)).f(hsl(random())))"
      ]
    },
    {
      "cell_type": "markdown",
      "metadata": {
        "id": "Kk_wwlkdoITO"
      },
      "source": [
        "Of course, columns like that aren’t very typographic. Here’s an example using subdivide_with_leading, a useful method for quickly getting standard rows or columns with classic spacing.\n",
        "\n"
      ]
    },
    {
      "cell_type": "code",
      "execution_count": 11,
      "metadata": {
        "colab": {
          "base_uri": "https://localhost:8080/",
          "height": 271
        },
        "id": "tGwwRSXUm3hW",
        "outputId": "4350d3b4-1cf0-47a2-ab44-e29c5994d027"
      },
      "outputs": [
        {
          "data": {
            "text/html": [
              "<img width=350.0 src='data:image/png;base64,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'/>"
            ],
            "text/plain": [
              "<IPython.core.display.HTML object>"
            ]
          },
          "metadata": {},
          "output_type": "display_data"
        }
      ],
      "source": [
        "@renderable((700, 500))\n",
        "def columns_leading(r):\n",
        "    cs = r.subdivide_with_leading(5, 20, \"N\")\n",
        "    return P.Enumerate(cs, lambda x:\n",
        "        P(x.el).f(hsl(random())))"
      ]
    },
    {
      "cell_type": "markdown",
      "metadata": {
        "id": "Wrd5-yqNScij"
      },
      "source": [
        "## Grids\n",
        "\n",
        "If you’re a fan of CSS grids, you might like the weird little `Grid` class made available in Coldtype."
      ]
    },
    {
      "cell_type": "code",
      "execution_count": 13,
      "metadata": {
        "colab": {
          "base_uri": "https://localhost:8080/",
          "height": 171
        },
        "id": "MsEr0gVSSj7s",
        "outputId": "b700bffe-5945-4c9e-8bca-825a35a3b903"
      },
      "outputs": [
        {
          "data": {
            "text/html": [
              "<img width=350.0 src='data:image/png;base64,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'/>"
            ],
            "text/plain": [
              "<IPython.core.display.HTML object>"
            ]
          },
          "metadata": {},
          "output_type": "display_data"
        }
      ],
      "source": [
        "r = Rect(700, 300)\n",
        "g = Grid(r, \"a a\", \"a a\", \"a b / c d\")\n",
        "\n",
        "@renderable(r)\n",
        "def simple_grid1(r):\n",
        "    return P(\n",
        "        P(g[\"a\"]).f(hsl(0)),\n",
        "        P(g[\"d\"]).f(hsl(0.5)))"
      ]
    },
    {
      "cell_type": "code",
      "execution_count": 14,
      "metadata": {
        "colab": {
          "base_uri": "https://localhost:8080/",
          "height": 171
        },
        "id": "fWfZ4Hf4TSEt",
        "outputId": "7c764616-c699-4858-eac0-6d2c3120b087"
      },
      "outputs": [
        {
          "data": {
            "text/html": [
              "<img width=350.0 src='data:image/png;base64,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'/>"
            ],
            "text/plain": [
              "<IPython.core.display.HTML object>"
            ]
          },
          "metadata": {},
          "output_type": "display_data"
        }
      ],
      "source": [
        "g = Grid(r, \"a 100\", \"100 a\", \"a b / c d\")\n",
        "\n",
        "@renderable(r)\n",
        "def simple_grid2(r):\n",
        "    return (\n",
        "        P(g[\"a\"]).f(hsl(0)),\n",
        "        P(g[\"d\"]).f(hsl(0.5)))"
      ]
    },
    {
      "cell_type": "code",
      "execution_count": 15,
      "metadata": {
        "colab": {
          "base_uri": "https://localhost:8080/",
          "height": 171
        },
        "id": "MsbQ7JoxTWiP",
        "outputId": "25f554ac-e87a-4e11-a75d-c4942c923144"
      },
      "outputs": [
        {
          "data": {
            "text/html": [
              "<img width=350.0 src='data:image/png;base64,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'/>"
            ],
            "text/plain": [
              "<IPython.core.display.HTML object>"
            ]
          },
          "metadata": {},
          "output_type": "display_data"
        }
      ],
      "source": [
        "g = Grid(r, \"a 100 a\", \"a 100 a\", \"a b c / d e f / g h i\")\n",
        "\n",
        "@renderable(r)\n",
        "def simple_grid3(r):\n",
        "    return (\n",
        "        P(g[\"a\"]).f(hsl(0)),\n",
        "        P(g[\"e\"]).f(hsl(0.3)),\n",
        "        P(g[\"i\"]).f(hsl(0.5)))"
      ]
    }
  ],
  "metadata": {
    "colab": {
      "collapsed_sections": [],
      "name": "Coldtype Geometry Tutorial.ipynb",
      "provenance": []
    },
    "kernelspec": {
      "display_name": "Python 3.10.5 ('venv': venv)",
      "language": "python",
      "name": "python3"
    },
    "language_info": {
      "codemirror_mode": {
        "name": "ipython",
        "version": 3
      },
      "file_extension": ".py",
      "mimetype": "text/x-python",
      "name": "python",
      "nbconvert_exporter": "python",
      "pygments_lexer": "ipython3",
      "version": "3.10.5"
    },
    "vscode": {
      "interpreter": {
        "hash": "10cf79b6252b6bfa5f219a04587890ec267e7f2fde6b173960de4ad2915a3b2e"
      }
    }
  },
  "nbformat": 4,
  "nbformat_minor": 0
}
