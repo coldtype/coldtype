{
  "cells": [
    {
      "cell_type": "code",
      "execution_count": null,
      "metadata": {},
      "outputs": [],
      "source": [
        "dict(\n",
        "    author=\"Rob Stenson\",\n",
        "    title=\"Shapes\",\n",
        "    date=\"11/29/2022\"\n",
        ")"
      ]
    },
    {
      "cell_type": "code",
      "execution_count": 1,
      "metadata": {
        "id": "joXt9bJEjUDC"
      },
      "outputs": [],
      "source": [
        "#hide-publish\n",
        "%pip install -q coldtype[notebook]\n",
        "#%pip install -q \"coldtype[notebook] @ git+https://github.com/goodhertz/coldtype\"\n",
        "from coldtype.notebook import *"
      ]
    },
    {
      "cell_type": "markdown",
      "metadata": {
        "id": "cqE4kXaXoiFu"
      },
      "source": [
        "Let’s start with a classic rectangle."
      ]
    },
    {
      "cell_type": "code",
      "execution_count": 2,
      "metadata": {
        "colab": {
          "base_uri": "https://localhost:8080/",
          "height": 171
        },
        "id": "-UPVdBQqjeYF",
        "outputId": "3b300b98-d826-455e-f10c-5f4272984935"
      },
      "outputs": [
        {
          "data": {
            "text/html": [
              "<img width=150.0 src='data:image/png;base64,iVBORw0KGgoAAAANSUhEUgAAASwAAAEsCAYAAAB5fY51AAAABHNCSVQICAgIfAhkiAAABBpJREFUeJzt1kENAlEUBEGWrBAQiBoEPSngZLHAYcmnkyoFc+rMNjPHBaBAsICCmTmuq0cAfEuwgAzBAjIEC8gQLCBDsIAMwQIyBAvIECwgQ7CADMECMgQLyBAsIEOwgAzBAjIEC8gQLCBDsIAMwQIyBAvIECwgQ7CADMECMgQLyBAsIEOwgAzBAjIEC8gQLCBDsIAMwQIyBAvIECwgQ7CADMECMgQLyBAsIEOwgAzBAjIEC8gQLCBDsIAMwQIyBAvIECwgQ7CADMECMgQLyNhXDzjL6/Y8Vm+Af3V/P7bVG87gYQEZggVkCBaQIVhAhmABGYIFZAgWkCFYQIZgARmCBWQIFpAhWECGYAEZggVkCBaQIVhAhmABGYIFZAgWkCFYQIZgARmCBWQIFpAhWECGYAEZggVkCBaQIVhAhmABGYIFZAgWkCFYQIZgARmCBWQIFpAhWECGYAEZggVkCBaQIVhAhmABGYIFZAgWkCFYQIZgARmCBWQIFpAhWECGYAEZggVkCBaQIVhAhmABGYIFZAgWkCFYQIZgARmCBWQIFpAhWECGYAEZggVkCBaQIVhAhmABGYIFZAgWkCFYQIZgARmCBWQIFpAhWECGYAEZggVkCBaQIVhAhmABGYIFZAgWkCFYQIZgARmCBWQIFpAhWECGYAEZggVkCBaQIVhAhmABGYIFZAgWkCFYQIZgARmCBWQIFpAhWECGYAEZggVkCBaQIVhAhmABGYIFZAgWkCFYQIZgARmCBWQIFpAhWECGYAEZggVkCBaQIVhAhmABGYIFZAgWkCFYQIZgARmCBWQIFpAhWECGYAEZggVkCBaQIVhAhmABGYIFZAgWkCFYQIZgARmCBWQIFpAhWECGYAEZggVkCBaQIVhAhmABGYIFZAgWkCFYQIZgARmCBWQIFpAhWECGYAEZggVkCBaQIVhAhmABGYIFZAgWkCFYQIZgARmCBWQIFpAhWECGYAEZggVkCBaQIVhAhmABGYIFZAgWkCFYQIZgARmCBWQIFpAhWECGYAEZggVkCBaQIVhAhmABGYIFZAgWkCFYQIZgARmCBWQIFpAhWECGYAEZggVkCBaQIVhAhmABGYIFZAgWkCFYQIZgARmCBWQIFpAhWECGYAEZggVkCBaQIVhAhmABGYIFZAgWkLGvHnCW+/uxrd4A/JaHBWQIFpAhWECGYAEZggVkCBaQIVhAhmABGYIFZAgWkCFYQIZgARmCBWQIFpAhWECGYAEZggVkCBaQIVhAhmABGYIFZAgWkCFYQIZgARmCBWQIFpAhWECGYAEZggVkCBaQIVhAhmABGYIFZAgWkCFYQIZgARmCBWQIFpAhWECGYAEZggVkCBaQIVhAhmABGYIFZAgWkCFYQIZgARnbzByrRwB84wNeMxS4AFEASAAAAABJRU5ErkJggg=='/>"
            ],
            "text/plain": [
              "<IPython.core.display.HTML object>"
            ]
          },
          "metadata": {},
          "output_type": "display_data"
        }
      ],
      "source": [
        "@renderable((300, 300))\n",
        "def rectangle(r):\n",
        "    return P().rect(r.inset(50)).f(hsl(0.9, 0.75))"
      ]
    },
    {
      "attachments": {},
      "cell_type": "markdown",
      "metadata": {
        "id": "JmyZZoKRoshG"
      },
      "source": [
        "That’s how to draw a rectangle with a 50px padding around the edges (the padding comes from the ``r.inset(50)`` call).\n",
        "\n",
        "_I’m re-reading this now and if you’re thinking to yourself: that’s a square — well that makes sense, but a square’s just a rectangle with the same width & height._\n",
        "\n",
        "How about an oval?"
      ]
    },
    {
      "cell_type": "code",
      "execution_count": 3,
      "metadata": {
        "colab": {
          "base_uri": "https://localhost:8080/",
          "height": 171
        },
        "id": "14h2ExQojjr2",
        "outputId": "cdfd9fd5-f304-4912-853c-b9800bece808"
      },
      "outputs": [
        {
          "data": {
            "text/html": [
              "<img width=150.0 src='data:image/png;base64,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'/>"
            ],
            "text/plain": [
              "<IPython.core.display.HTML object>"
            ]
          },
          "metadata": {},
          "output_type": "display_data"
        }
      ],
      "source": [
        "@renderable((300, 300))\n",
        "def oval(r):\n",
        "    return P().oval(r.inset(45)).f(hsl(0.6))"
      ]
    },
    {
      "cell_type": "markdown",
      "metadata": {
        "id": "TCyBoKKXoutt"
      },
      "source": [
        "That’s an oval. Sweeet.\n",
        "\n",
        "What if you want to combine an oval and a rect?"
      ]
    },
    {
      "cell_type": "code",
      "execution_count": 4,
      "metadata": {
        "colab": {
          "base_uri": "https://localhost:8080/",
          "height": 171
        },
        "id": "2Ae7AcCBjsJa",
        "outputId": "11eee8a0-e820-4ff6-c246-8fd61595f4ff"
      },
      "outputs": [
        {
          "data": {
            "text/html": [
              "<img width=150.0 src='data:image/png;base64,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'/>"
            ],
            "text/plain": [
              "<IPython.core.display.HTML object>"
            ]
          },
          "metadata": {},
          "output_type": "display_data"
        }
      ],
      "source": [
        "@renderable((300, 300))\n",
        "def ovalrect(r):\n",
        "    return (P()\n",
        "        .oval(r.inset(60))\n",
        "        .translate(30, 30)\n",
        "        .union(P()\n",
        "            .rect(r.inset(65))\n",
        "            .translate(-30, -30))\n",
        "        .f(hsl(0.05, l=0.6, s=0.75)))"
      ]
    },
    {
      "cell_type": "markdown",
      "metadata": {
        "id": "rFNQ6Mqxp8dT"
      },
      "source": [
        "Or maybe you want just the parts of those two shapes that don’t overlap? And maybe you want to fill the shape with a gradient and rotate the rect a little bit and then eyeball how it should be centered in its frame?"
      ]
    },
    {
      "cell_type": "code",
      "execution_count": 5,
      "metadata": {
        "colab": {
          "base_uri": "https://localhost:8080/",
          "height": 171
        },
        "id": "j4EPWL3Sp2KF",
        "outputId": "280fa279-b2e4-4841-8d18-383e312ac629"
      },
      "outputs": [
        {
          "data": {
            "text/html": [
              "<img width=150.0 src='data:image/png;base64,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'/>"
            ],
            "text/plain": [
              "<IPython.core.display.HTML object>"
            ]
          },
          "metadata": {},
          "output_type": "display_data"
        }
      ],
      "source": [
        "@renderable((300, 300))\n",
        "def ovalrect_diff(r):\n",
        "    return (P()\n",
        "        .oval(r.inset(60))\n",
        "        .translate(30, 30)\n",
        "        .xor(P()\n",
        "            .rect(r.inset(65))\n",
        "            .translate(-30, -30)\n",
        "            .rotate(-5))\n",
        "        .f(Gradient.Horizontal(r,\n",
        "            hsl(0.05, l=0.6, s=0.75),\n",
        "            hsl(0.8, l=0.6, s=0.5)))\n",
        "        .translate(7)) # & eyeball it"
      ]
    },
    {
      "cell_type": "markdown",
      "metadata": {
        "id": "iEgF3YhNa3ko"
      },
      "source": [
        "## Modifying Shapes\n",
        "\n",
        "Here’s an example of building up a chain of effects to modify a simple vector shape."
      ]
    },
    {
      "cell_type": "code",
      "execution_count": 4,
      "metadata": {
        "colab": {
          "base_uri": "https://localhost:8080/",
          "height": 171
        },
        "id": "SRiiWR6ZZ1O4",
        "outputId": "6182fe47-84f7-4276-fe52-e31fa9b7ce10"
      },
      "outputs": [
        {
          "data": {
            "text/html": [
              "<img width=150.0 src='data:image/png;base64,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'/>"
            ],
            "text/plain": [
              "<IPython.core.display.HTML object>"
            ]
          },
          "metadata": {},
          "output_type": "display_data"
        }
      ],
      "source": [
        "from coldtype.fx.skia import phototype\n",
        "\n",
        "@renderable((300, 300))\n",
        "def ovalmod(r):\n",
        "    return (P()\n",
        "        .oval(r.inset(60))\n",
        "        .flatten(5) # breaks the oval down into non-curves, 5 is the length of the segment\n",
        "        .roughen(50) # randomizes the vertices of the shape\n",
        "        .f(1)\n",
        "        .ch(phototype(r, blur=5, cut=100, cutw=5, fill=hsl(0.07, 1, 0.6))))"
      ]
    }
  ],
  "metadata": {
    "colab": {
      "collapsed_sections": [],
      "provenance": []
    },
    "kernelspec": {
      "display_name": "Python 3.10.5 ('venv': venv)",
      "language": "python",
      "name": "python3"
    },
    "language_info": {
      "codemirror_mode": {
        "name": "ipython",
        "version": 3
      },
      "file_extension": ".py",
      "mimetype": "text/x-python",
      "name": "python",
      "nbconvert_exporter": "python",
      "pygments_lexer": "ipython3",
      "version": "3.10.5"
    },
    "vscode": {
      "interpreter": {
        "hash": "10cf79b6252b6bfa5f219a04587890ec267e7f2fde6b173960de4ad2915a3b2e"
      }
    }
  },
  "nbformat": 4,
  "nbformat_minor": 0
}
