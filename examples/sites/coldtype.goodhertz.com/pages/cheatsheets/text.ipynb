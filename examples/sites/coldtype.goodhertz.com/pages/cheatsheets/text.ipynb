{
 "cells": [
  {
   "cell_type": "code",
   "execution_count": null,
   "metadata": {},
   "outputs": [],
   "source": [
    "dict(\n",
    "    author=\"Rob Stenson\",\n",
    "    title=\"Text Cheatsheet\",\n",
    "    date=\"1/6/2023\"\n",
    ")"
   ]
  },
  {
   "cell_type": "code",
   "execution_count": null,
   "metadata": {},
   "outputs": [],
   "source": [
    "from coldtype import *\n",
    "\n",
    "# an exact path to a font file\n",
    "fnt = Font.Cacheable(\"/System/Library/Fonts/SFNS.ttf\")\n",
    "\n",
    "# listing fonts that match a pattern\n",
    "\n",
    "fnt = Font.List(\"Times\") # returns exact paths that can be passed to Font.Cacheable\n",
    "\n",
    "# finding and loading the first font matching a pattern\n",
    "\n",
    "fnt = Font.Find(\"Times\")\n",
    "\n",
    "# The StSt — the quickest way to get from plaintext to a vector/path representation of that text in a given font\n",
    "\n",
    "StSt(\"Text\", fnt, 100) # simplest StSt invocation\n",
    "\n",
    "# Building and aligning a StSt\n",
    "\n",
    "r = Rect(1080, 1080)\n",
    "(StSt(\"Text\", fnt, 100)\n",
    "    .align(r)) # center aligns\n",
    "\n",
    "(StSt(\"Text\", fnt, 100)\n",
    "    .align(r, \"mnx\", \"mny\")) # align to bottom-left\n",
    "\n",
    "(StSt(\"Text\", fnt, 100)\n",
    "    .align(r, \"⊢\", \"⊥\")) # also aligns to bottom-left\n",
    "\n",
    "(StSt(\"Text\", fnt, 100,\n",
    "    r=1)) # r=1 reverses direction of the glyphs\n",
    "\n",
    "# Variable fonts\n",
    "\n",
    "fnt = Font.Find(\"SFNS.ttf\")\n",
    "\n",
    "vtxt = (StSt(\"Variable\", fnt, 100,\n",
    "    wght=1, opsz=0)) # maximum weight, minimum optical size\n",
    "\n",
    "vtxt = (StSt(\"Variable\", fnt, 100,\n",
    "    wght=0, # minimum weight\n",
    "    opsz=1, # maximum optical size\n",
    "    ro=1, # remove the overlaps (useful for var fonts when applying a stroke)\n",
    "    ))\n",
    "\n",
    "# If your variable font has a width axis, you can pass a fit= argument to a StSt constructor in order to have it automatically fit to a given width — here we'll use the included Mutator Sans fitted to the \n",
    "\n",
    "fit_txt = (StSt(\"VARIABLE WIDTH\", Font.MutatorSans(), 100,\n",
    "    wdth=1, # fitting always goes from wide to narrow, so make sure to set to max wdth (unless you want it to never be that wide)\n",
    "    fit=r.w-100) # -100 is just some quick padding\n",
    "    .align(r))\n",
    "\n",
    "# Multi-line text\n",
    "# N.B. there is no line-breaking in Coldtype; all line-breaks must be manually done (or you can use drawBot as a package within coldtype to generate multi-line strings that can be vectorized with drawBot.BezierPath)\n",
    "\n",
    "txt = (StSt(\"Multi-\\nline\", fnt, 100, \n",
    "    leading=50) # a pixel amount between each line\n",
    "    .align(r))\n",
    "\n",
    "txt = (StSt(\"Multi-\\nline\", fnt, 100, \n",
    "    leading=50, xa=\"mnx\") # left align each line\n",
    "    .align(r))\n",
    "\n",
    "txt = (StSt(\"Multi-\\nline\", fnt, 100, \n",
    "    leading=50, xa=\"mxx\") # right align each line\n",
    "    .align(r))\n",
    "\n",
    "# If you want the text as a single vector (pen), you can do something like this:\n",
    "\n",
    "txt = txt.pen()"
   ]
  }
 ],
 "metadata": {
  "kernelspec": {
   "display_name": "venv",
   "language": "python",
   "name": "python3"
  },
  "language_info": {
   "name": "python",
   "version": "3.10.5 (v3.10.5:f377153967, Jun  6 2022, 12:36:10) [Clang 13.0.0 (clang-1300.0.29.30)]"
  },
  "orig_nbformat": 4,
  "vscode": {
   "interpreter": {
    "hash": "10cf79b6252b6bfa5f219a04587890ec267e7f2fde6b173960de4ad2915a3b2e"
   }
  }
 },
 "nbformat": 4,
 "nbformat_minor": 2
}
