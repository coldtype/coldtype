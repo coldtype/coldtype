{
 "cells": [
  {
   "cell_type": "code",
   "execution_count": null,
   "metadata": {},
   "outputs": [],
   "source": [
    "dict(\n",
    "    author=\"Rob Stenson\",\n",
    "    date=\"1/6/2023\",\n",
    "    title=\"Rectangles Cheatsheet\",\n",
    ")"
   ]
  },
  {
   "attachments": {},
   "cell_type": "markdown",
   "metadata": {},
   "source": [
    "A quick reference for `Rect`(angles)"
   ]
  },
  {
   "cell_type": "code",
   "execution_count": null,
   "metadata": {},
   "outputs": [],
   "source": [
    "from coldtype import Rect\n",
    "\n",
    "# N.B. Coldtype has point (0,0) at bottom-left\n",
    "\n",
    "# three equivalent ways to declare a rect\n",
    "\n",
    "a = Rect(0, 0, 1080, 1080) # x, y, w, h\n",
    "b = Rect(1080, 1080) # just 2 args will be w & h\n",
    "c = Rect([0, 0, 1080, 1080]) # can also be 1-arg (a list)\n",
    "\n",
    "# simple modifications\n",
    "\n",
    "r = Rect(1080, 1080)\n",
    "a = r.inset(100, 100) # 100-px padding on all sides\n",
    "b = r.inset(200, 50) # 200-px inset on left side and right side, 50-px inset on the top and bottom\n",
    "c = r.offset(10, 20) # 10-px translation on x-axis (i.e. to-the-right), 20-px translation on y-axis (i.e. up)\n",
    "\n",
    "# getting values from a rect\n",
    "\n",
    "r = Rect(1080, 1080)\n",
    "r.x # x coordinate of bottom-left\n",
    "r.y # y coordinate of bottom-left\n",
    "r.w # width\n",
    "r.h # height\n",
    "# -or-\n",
    "r[0] # x\n",
    "r[1] # y\n",
    "r[2] # w\n",
    "r[3] # h\n",
    "x, y, w, h = r\n",
    "\n",
    "# can be splat'd\n",
    "def use_rect(x, y, w, h):\n",
    "    return x + w, y + h\n",
    "use_rect(*r)\n",
    "\n",
    "# compass points\n",
    "\n",
    "r.pc # point-center\n",
    "r.pn # point-north\n",
    "r.ps # point-south\n",
    "r.pe, r.pw # point-east, point-west\n",
    "r.pne, r.pse, r.psw, r.pnw # northeast, southeast, southwest, northwest\n",
    "# all of these values yield a Point object, which has x/y props & behaves like a list\n",
    "r.pc.x # x coordinate of the center of the rect\n",
    "r.pc.y # y coordinate of the center of the rect\n",
    "r.pc[0] # x\n",
    "r.pc[1] # y\n",
    "\n",
    "# quick columns\n",
    "\n",
    "r = Rect(0, 0, 1080, 1080)\n",
    "a, b, c = r.subdivide(3, \"mnx\") # 'a' would be the first column, 'c' the last (left-to-right)\n",
    "a, b, c, d = r.subdivide(4, \"mxx\") # 'a' would be the first column, 'd' the last (right-to-right)\n",
    "columns = r.subdivide(8, \"W\") # columns holds a list of 8 columns arrayed west-to-east (left-to-right) (b/c of the W argument, equivalent to \"mnx\")\n",
    "\n",
    "# quick rows\n",
    "\n",
    "a, b, c, d = r.subdivide(4, \"mxy\") # 'a' would be the first row, 'd' the last (top-to-bottom)\n",
    "a, b, c, d = r.subdivide(4, \"mxy\") # 'a' would be the first row, 'd' the last (top-to-bottom)\n",
    "rows = r.subdivide(8, \"N\") # rows holds a list of 8 rows arrayed north-to-south (top-to-bottom) (b/c of the \"N\" argument, equivalent to \"mxy\")\n",
    "\n",
    "# quick slicing and dicing\n",
    "\n",
    "r = Rect(1080, 1080)\n",
    "r.take(100, \"W\") # 100px-wide rect sliced off the western half of the original rect, i.e. Rect(0, 0, 100, 1080)\n",
    "\n",
    "# \"edge\" shorthand\n",
    "\n",
    "\"mnx\" == \"W\" == \"⊢\" # aka minimum-x aka the left-hand edge of a rectangle, aka the western edge\n",
    "\"mny\" == \"S\" == \"⊥\" # aka minimum-y aka the bottom edge of a rectangle, aka the southern edge\n",
    "\"mxx\" == \"E\" == \"⊣\" # aka maximum-x aka the right-hand edge of a rectangle, aka the eastern edge\n",
    "\"mxy\" == \"N\" == \"⊤\" # aka maximum-y aka the top edge of a rectangle, aka the northern edge\n",
    "\"mdx\" == \"CX\" == \"⌶\" # aka middle-x aka the center vertical \"edge\", or line of a rectangle (a line going from the top to the bottom right down the middle)\n",
    "\"mdy\" == \"CY\" == \"Ｈ\" # aka middle-y aka the center horizontal \"edge\" of a rectangle (a line going from the left to the right right through the middle (separating the bottom half from the top half))"
   ]
  }
 ],
 "metadata": {
  "kernelspec": {
   "display_name": "venv",
   "language": "python",
   "name": "python3"
  },
  "language_info": {
   "name": "python",
   "version": "3.10.5 (v3.10.5:f377153967, Jun  6 2022, 12:36:10) [Clang 13.0.0 (clang-1300.0.29.30)]"
  },
  "orig_nbformat": 4,
  "vscode": {
   "interpreter": {
    "hash": "10cf79b6252b6bfa5f219a04587890ec267e7f2fde6b173960de4ad2915a3b2e"
   }
  }
 },
 "nbformat": 4,
 "nbformat_minor": 2
}
