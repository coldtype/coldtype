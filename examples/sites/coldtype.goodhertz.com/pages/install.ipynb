{
 "cells": [
  {
   "cell_type": "code",
   "execution_count": null,
   "metadata": {},
   "outputs": [],
   "source": [
    "dict(\n",
    "    author=\"Rob Stenson\",\n",
    "    date=\"1/6/2023\",\n",
    "    title=\"Install\",\n",
    ")"
   ]
  },
  {
   "attachments": {},
   "cell_type": "markdown",
   "metadata": {},
   "source": [
    "<iframe width=\"560\" height=\"315\" src=\"https://www.youtube.com/embed/hCGF6FZCSqc\" title=\"YouTube video player\" frameborder=\"0\" allow=\"accelerometer; autoplay; clipboard-write; encrypted-media; gyroscope; picture-in-picture\" allowfullscreen></iframe>"
   ]
  },
  {
   "attachments": {},
   "cell_type": "markdown",
   "metadata": {},
   "source": [
    "* Install a Python >= 3.7\n",
    "* If you don’t have a Python >= 3.7, I’d recommend the latest Python (available from [python.org/downloads](https://python.org/downloads)\n",
    "\n",
    "If you want to try coldtype in a blank virtual environment:\n",
    "\n",
    "Using a virtualenv (based on a python >= 3.7) (aka `python3.10 -m venv venv` and then `source venv/bin/activate`), run:\n",
    "\n",
    "* `pip install \"coldtype[viewer]\"`\n",
    "* `coldtype demo`\n",
    "\n",
    "That last command should pop up a window. If you hit the spacebar with that window focused, you should see an animation start playing.\n",
    "\n",
    "---\n",
    "\n",
    "To write your own script, make a python file in your repo, like *test.py*, and put some code in it, like:"
   ]
  },
  {
   "cell_type": "code",
   "execution_count": null,
   "metadata": {},
   "outputs": [],
   "source": [
    "from coldtype import *\n",
    "\n",
    "@renderable()\n",
    "def test(r):\n",
    "    return P().oval(r)"
   ]
  },
  {
   "attachments": {},
   "cell_type": "markdown",
   "metadata": {},
   "source": [
    "Then you can run that like so — `coldtype test.py` — and a large pink oval should pop up on your screen.\n",
    "\n",
    "You may also notice the command is still hanging, meaning it hasn't exited. So if you edit test.py and hit save, you should see the change immediately pop up in the same window. For instance, try insetting the oval and making it a different color, so that your code looks something like this:"
   ]
  },
  {
   "cell_type": "code",
   "execution_count": null,
   "metadata": {},
   "outputs": [],
   "source": [
    "from coldtype import *\n",
    "\n",
    "@renderable()\n",
    "def test(r):\n",
    "    return P().oval(r.inset(100)).f(hsl(0.8))"
   ]
  },
  {
   "attachments": {},
   "cell_type": "markdown",
   "metadata": {},
   "source": [
    "Now the oval should have some padding and be purple-ish.\n",
    "\n",
    "To quit the running program, as with all CLI programs, you can hit *ctrl c* and that should kill the program. Or you can type *kill* into the command line while the program is running and it should have the same effect. (That’s not something that’ll usually work, but it works in coldtype.)"
   ]
  }
 ],
 "metadata": {
  "kernelspec": {
   "display_name": "venv",
   "language": "python",
   "name": "python3"
  },
  "language_info": {
   "name": "python",
   "version": "3.10.5 (v3.10.5:f377153967, Jun  6 2022, 12:36:10) [Clang 13.0.0 (clang-1300.0.29.30)]"
  },
  "orig_nbformat": 4,
  "vscode": {
   "interpreter": {
    "hash": "10cf79b6252b6bfa5f219a04587890ec267e7f2fde6b173960de4ad2915a3b2e"
   }
  }
 },
 "nbformat": 4,
 "nbformat_minor": 2
}
