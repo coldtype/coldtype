{
 "cells": [
  {
   "cell_type": "code",
   "execution_count": null,
   "metadata": {},
   "outputs": [],
   "source": [
    "dict(\n",
    "    author=\"Rob Stenson\",\n",
    "    title=\"Classes & Functions\",\n",
    "    date=\"1/7/2023\",\n",
    "    blank=True,\n",
    ")"
   ]
  }
 ],
 "metadata": {
  "kernelspec": {
   "display_name": "venv",
   "language": "python",
   "name": "python3"
  },
  "language_info": {
   "name": "python",
   "version": "3.10.5 (v3.10.5:f377153967, Jun  6 2022, 12:36:10) [Clang 13.0.0 (clang-1300.0.29.30)]"
  },
  "orig_nbformat": 4,
  "vscode": {
   "interpreter": {
    "hash": "10cf79b6252b6bfa5f219a04587890ec267e7f2fde6b173960de4ad2915a3b2e"
   }
  }
 },
 "nbformat": 4,
 "nbformat_minor": 2
}
