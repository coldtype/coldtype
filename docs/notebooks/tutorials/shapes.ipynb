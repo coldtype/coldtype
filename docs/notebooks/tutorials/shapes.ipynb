{
  "nbformat": 4,
  "nbformat_minor": 0,
  "metadata": {
    "colab": {
      "provenance": [],
      "collapsed_sections": []
    },
    "kernelspec": {
      "name": "python3",
      "display_name": "Python 3"
    },
    "language_info": {
      "name": "python"
    }
  },
  "cells": [
    {
      "cell_type": "markdown",
      "source": [
        "[![Open In Colab](https://colab.research.google.com/assets/colab-badge.svg)](https://colab.research.google.com/github/coldtype/coldtype/blob/main/docs/notebooks/tutorials/shapes.ipynb)"
      ],
      "metadata": {
        "id": "Dx9fxpS3Re4u"
      }
    },
    {
      "cell_type": "markdown",
      "metadata": {
        "id": "V1Hl3fcsoQBq"
      },
      "source": [
        "# Working with Shapes in Coldtype"
      ]
    },
    {
      "cell_type": "code",
      "metadata": {
        "id": "joXt9bJEjUDC"
      },
      "source": [
        "%pip install coldtype[notebook]\n",
        "#%pip install -q \"coldtype[notebook] @ git+https://github.com/goodhertz/coldtype\"\n",
        "\n",
        "from coldtype.notebook import *"
      ],
      "execution_count": 1,
      "outputs": []
    },
    {
      "cell_type": "markdown",
      "metadata": {
        "id": "cqE4kXaXoiFu"
      },
      "source": [
        "Let’s start with a classic rectangle."
      ]
    },
    {
      "cell_type": "code",
      "metadata": {
        "colab": {
          "base_uri": "https://localhost:8080/",
          "height": 171
        },
        "id": "-UPVdBQqjeYF",
        "outputId": "3b300b98-d826-455e-f10c-5f4272984935"
      },
      "source": [
        "@renderable((300, 300))\n",
        "def rectangle(r):\n",
        "    return P().rect(r.inset(50)).f(hsl(0.9, 0.75))"
      ],
      "execution_count": 4,
      "outputs": [
        {
          "output_type": "display_data",
          "data": {
            "text/plain": [
              "<IPython.core.display.HTML object>"
            ],
            "text/html": [
              "<img width=150.0 src='data:image/png;base64,iVBORw0KGgoAAAANSUhEUgAAASwAAAEsCAYAAAB5fY51AAAABHNCSVQICAgIfAhkiAAABBpJREFUeJzt1kENAlEUBEGWrBAQiBoEPSngZLHAYcmnkyoFc+rMNjPHBaBAsICCmTmuq0cAfEuwgAzBAjIEC8gQLCBDsIAMwQIyBAvIECwgQ7CADMECMgQLyBAsIEOwgAzBAjIEC8gQLCBDsIAMwQIyBAvIECwgQ7CADMECMgQLyBAsIEOwgAzBAjIEC8gQLCBDsIAMwQIyBAvIECwgQ7CADMECMgQLyBAsIEOwgAzBAjIEC8gQLCBDsIAMwQIyBAvIECwgQ7CADMECMgQLyNhXDzjL6/Y8Vm+Af3V/P7bVG87gYQEZggVkCBaQIVhAhmABGYIFZAgWkCFYQIZgARmCBWQIFpAhWECGYAEZggVkCBaQIVhAhmABGYIFZAgWkCFYQIZgARmCBWQIFpAhWECGYAEZggVkCBaQIVhAhmABGYIFZAgWkCFYQIZgARmCBWQIFpAhWECGYAEZggVkCBaQIVhAhmABGYIFZAgWkCFYQIZgARmCBWQIFpAhWECGYAEZggVkCBaQIVhAhmABGYIFZAgWkCFYQIZgARmCBWQIFpAhWECGYAEZggVkCBaQIVhAhmABGYIFZAgWkCFYQIZgARmCBWQIFpAhWECGYAEZggVkCBaQIVhAhmABGYIFZAgWkCFYQIZgARmCBWQIFpAhWECGYAEZggVkCBaQIVhAhmABGYIFZAgWkCFYQIZgARmCBWQIFpAhWECGYAEZggVkCBaQIVhAhmABGYIFZAgWkCFYQIZgARmCBWQIFpAhWECGYAEZggVkCBaQIVhAhmABGYIFZAgWkCFYQIZgARmCBWQIFpAhWECGYAEZggVkCBaQIVhAhmABGYIFZAgWkCFYQIZgARmCBWQIFpAhWECGYAEZggVkCBaQIVhAhmABGYIFZAgWkCFYQIZgARmCBWQIFpAhWECGYAEZggVkCBaQIVhAhmABGYIFZAgWkCFYQIZgARmCBWQIFpAhWECGYAEZggVkCBaQIVhAhmABGYIFZAgWkCFYQIZgARmCBWQIFpAhWECGYAEZggVkCBaQIVhAhmABGYIFZAgWkCFYQIZgARmCBWQIFpAhWECGYAEZggVkCBaQIVhAhmABGYIFZAgWkCFYQIZgARmCBWQIFpAhWECGYAEZggVkCBaQIVhAhmABGYIFZAgWkLGvHnCW+/uxrd4A/JaHBWQIFpAhWECGYAEZggVkCBaQIVhAhmABGYIFZAgWkCFYQIZgARmCBWQIFpAhWECGYAEZggVkCBaQIVhAhmABGYIFZAgWkCFYQIZgARmCBWQIFpAhWECGYAEZggVkCBaQIVhAhmABGYIFZAgWkCFYQIZgARmCBWQIFpAhWECGYAEZggVkCBaQIVhAhmABGYIFZAgWkCFYQIZgARnbzByrRwB84wNeMxS4AFEASAAAAABJRU5ErkJggg=='/>"
            ]
          },
          "metadata": {}
        }
      ]
    },
    {
      "cell_type": "markdown",
      "metadata": {
        "id": "JmyZZoKRoshG"
      },
      "source": [
        "That’s how to draw a rectangle with a 50px padding around the edges (the padding comes from the ``r.inset(50)`` call). (I’m re-reading this now and if you’re thinking to yourself: that’s a square — well that makes sense, but a square’s just a rectangle with the same width & height.)\n",
        "\n",
        "How about an oval?"
      ]
    },
    {
      "cell_type": "code",
      "metadata": {
        "colab": {
          "base_uri": "https://localhost:8080/",
          "height": 171
        },
        "id": "14h2ExQojjr2",
        "outputId": "cdfd9fd5-f304-4912-853c-b9800bece808"
      },
      "source": [
        "@renderable((300, 300))\n",
        "def oval(r):\n",
        "    return P().oval(r.inset(45)).f(hsl(0.6))"
      ],
      "execution_count": null,
      "outputs": [
        {
          "output_type": "display_data",
          "data": {
            "text/plain": [
              "<IPython.core.display.HTML object>"
            ],
            "text/html": [
              "<img width=150.0 src='data:image/png;base64,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'/>"
            ]
          },
          "metadata": {}
        }
      ]
    },
    {
      "cell_type": "markdown",
      "metadata": {
        "id": "TCyBoKKXoutt"
      },
      "source": [
        "That’s an oval. Sweeet.\n",
        "\n",
        "What if you want to combine an oval and a rect?"
      ]
    },
    {
      "cell_type": "code",
      "metadata": {
        "colab": {
          "base_uri": "https://localhost:8080/",
          "height": 171
        },
        "id": "2Ae7AcCBjsJa",
        "outputId": "11eee8a0-e820-4ff6-c246-8fd61595f4ff"
      },
      "source": [
        "@renderable((300, 300))\n",
        "def ovalrect(r):\n",
        "    return (P()\n",
        "        .oval(r.inset(60))\n",
        "        .translate(30, 30)\n",
        "        .union(P()\n",
        "            .rect(r.inset(65))\n",
        "            .translate(-30, -30))\n",
        "        .f(hsl(0.05, l=0.6, s=0.75)))"
      ],
      "execution_count": null,
      "outputs": [
        {
          "output_type": "display_data",
          "data": {
            "text/plain": [
              "<IPython.core.display.HTML object>"
            ],
            "text/html": [
              "<img width=150.0 src='data:image/png;base64,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'/>"
            ]
          },
          "metadata": {}
        }
      ]
    },
    {
      "cell_type": "markdown",
      "metadata": {
        "id": "rFNQ6Mqxp8dT"
      },
      "source": [
        "Or maybe you want just the parts of those two shapes that don’t overlap? And maybe you want to fill the shape with a gradient and rotate the rect a little bit and then eyeball how it should be centered in its frame?"
      ]
    },
    {
      "cell_type": "code",
      "metadata": {
        "colab": {
          "base_uri": "https://localhost:8080/",
          "height": 171
        },
        "id": "j4EPWL3Sp2KF",
        "outputId": "280fa279-b2e4-4841-8d18-383e312ac629"
      },
      "source": [
        "@renderable((300, 300))\n",
        "def ovalrect_diff(r):\n",
        "    return (P()\n",
        "        .oval(r.inset(60))\n",
        "        .translate(30, 30)\n",
        "        .xor(P()\n",
        "            .rect(r.inset(65))\n",
        "            .translate(-30, -30)\n",
        "            .rotate(-5))\n",
        "        .f(Gradient.Horizontal(r,\n",
        "            hsl(0.05, l=0.6, s=0.75),\n",
        "            hsl(0.8, l=0.6, s=0.5)))\n",
        "        .translate(7)) # & eyeball it"
      ],
      "execution_count": null,
      "outputs": [
        {
          "output_type": "display_data",
          "data": {
            "text/plain": [
              "<IPython.core.display.HTML object>"
            ],
            "text/html": [
              "<img width=150.0 src='data:image/png;base64,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'/>"
            ]
          },
          "metadata": {}
        }
      ]
    },
    {
      "cell_type": "markdown",
      "metadata": {
        "id": "iEgF3YhNa3ko"
      },
      "source": [
        "## Modifying Shapes\n",
        "\n",
        "Here’s an example of building up a chain of effects to modify a simple vector shape."
      ]
    },
    {
      "cell_type": "code",
      "metadata": {
        "colab": {
          "base_uri": "https://localhost:8080/",
          "height": 171
        },
        "id": "SRiiWR6ZZ1O4",
        "outputId": "6182fe47-84f7-4276-fe52-e31fa9b7ce10"
      },
      "source": [
        "from coldtype.fx.skia import phototype\n",
        "\n",
        "@renderable((300, 300))\n",
        "def ovalmod(r):\n",
        "    return (P()\n",
        "        .oval(r.inset(60))\n",
        "        .flatten(5)\n",
        "        # 👆 breaks the oval down into non-curves, 5 is the length of the segment\n",
        "        .roughen(50)\n",
        "        # 👆 randomizes the vertices of the shape\n",
        "        .f(1)\n",
        "        .ch(phototype(r, blur=5, cut=100, cutw=5, fill=hsl(0.07, 1, 0.6))))"
      ],
      "execution_count": null,
      "outputs": [
        {
          "output_type": "display_data",
          "data": {
            "text/plain": [
              "<IPython.core.display.HTML object>"
            ],
            "text/html": [
              "<img width=150.0 src='data:image/png;base64,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'/>"
            ]
          },
          "metadata": {}
        }
      ]
    }
  ]
}