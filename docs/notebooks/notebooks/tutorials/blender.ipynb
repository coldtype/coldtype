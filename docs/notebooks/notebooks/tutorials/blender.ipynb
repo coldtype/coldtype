{
 "cells": [
  {
   "cell_type": "code",
   "execution_count": 6,
   "metadata": {},
   "outputs": [
    {
     "data": {
      "text/plain": [
       "{'author': 'Rob Stenson', 'title': 'Blender', 'date': '1/9/2023'}"
      ]
     },
     "execution_count": 6,
     "metadata": {},
     "output_type": "execute_result"
    }
   ],
   "source": [
    "dict(\n",
    "    author=\"Rob Stenson\",\n",
    "    title=\"Blender\",\n",
    "    date=\"1/9/2023\",\n",
    ")"
   ]
  },
  {
   "cell_type": "code",
   "execution_count": 5,
   "metadata": {},
   "outputs": [],
   "source": [
    "#hide-publish\n",
    "from coldtype.notebook import *"
   ]
  },
  {
   "attachments": {},
   "cell_type": "markdown",
   "metadata": {},
   "source": [
    "Behind the scenes, Coldtype uses the Skia library to rasterize two-dimensional vectors. But what if we want to rasterize *three-dimensional* graphics? One option is to use Blender."
   ]
  },
  {
   "cell_type": "markdown",
   "metadata": {},
   "source": [
    "\n",
    "Because Blender has an incredible Python API, it's not too difficult to use it programmatically — i.e. to write a normal Coldtype script, mark a few things (with metadata specific to Blender), and then let Blender & Coldtype take care of the translation to three dimensions. Here's an example:"
   ]
  },
  {
   "cell_type": "code",
   "execution_count": 4,
   "metadata": {},
   "outputs": [],
   "source": [
    "from coldtype.blender import *\n",
    "\n",
    "fnt = Font.Find(\"SwearCilatiVariable\")\n",
    "\n",
    "@b3d_animation(timeline=60)\n",
    "def varfont(f):\n",
    "    return (Glyphwise(\"Vari\", lambda g:\n",
    "        Style(fnt, 325,\n",
    "            opsz=f.adj(-g.i*5).e(\"seio\", 1, rng=(0.98, 0)),\n",
    "            wght=f.adj(-g.i*15).e(\"seio\", 1, rng=(0.98, 0))\n",
    "            ))\n",
    "        .align(f.a.r)\n",
    "        .mapv(lambda i, p: p\n",
    "            .ch(b3d(lambda bp: bp\n",
    "                .extrude(f.adj(-i*5)\n",
    "                    .e(\"ceio\", 1, rng=(0.015, 3)))))))"
   ]
  },
  {
   "attachments": {},
   "cell_type": "markdown",
   "metadata": {},
   "source": [
    "## Running Code in Blender\n",
    "\n",
    "First off, your virtual environment needs to be built with the same version of Python as the Blender version you’re targeting.\n",
    "\n",
    "Behind the scenes, Coldtype uses a tool called `b3denv` to communicate with Blender, and `b3denv` — installed as a dependency of Coldtype — makes it easy to create a virtual environment using the Python bundled with Blender.\n",
    "\n",
    "```bash\n",
    "b3denv python -m venv benv\n",
    "```\n",
    "\n",
    "Now you’ll have a blender-specific virtual environment named `benv`, which you can activate the usual way, `source benv/scripts/activate` on Mac.\n",
    "\n",
    "To get a Blender window to show up, all you need to do is use the ``@b3d_animation`` decorator in place of the standard @animation decorator, and add ``-bw 1`` to the command-line invocation. Or, if you want a set of sensible CLI defaults, try ``-p b3d`` instead, which stands for ``--profile=b3d`` and sets ``-bw 1`` as part of some other settings in the b3d profile.\n",
    "\n",
    "So, to use an example from the Coldtype repo, you could save the code from above and run:\n",
    "\n",
    "```bash\n",
    "coldtype examples/blender/varfont.py -p b3d\n",
    "```\n",
    "\n",
    "This should launch both a standard Coldtype window (with a 2D Skia renderer) and a Blender GUI window, which should automatically render the same thing as the 2D window, except in 3D. Put another way: you do not need to open Blender yourself, since Coldtype launches it as a background process (necessary to connect the live-code-reloading part of Coldtype to Blender). To quit both Coldtype and Blender, just hit ctrl-c in the terminal.\n",
    "\n",
    "What's different in Blender is that the contents of the scene aren’t re-created from scratch every time you render; instead, you annotate specific elements in your returned result, then those annotated results are displayed in Blender, as persistent objects. This means you can use Blender in a hybrid fashion, creating objects using the GUI, saving the file, and then re-saving your Coldtype source file for automatic updates in Blender itself.\n",
    "\n",
    "If you’d like to skip seeing the 2D Coldtype window, you can use `--b3dlo` instead. "
   ]
  }
 ],
 "metadata": {
  "kernelspec": {
   "display_name": "venv",
   "language": "python",
   "name": "python3"
  },
  "language_info": {
   "codemirror_mode": {
    "name": "ipython",
    "version": 3
   },
   "file_extension": ".py",
   "mimetype": "text/x-python",
   "name": "python",
   "nbconvert_exporter": "python",
   "pygments_lexer": "ipython3",
   "version": "3.10.5 (v3.10.5:f377153967, Jun  6 2022, 12:36:10) [Clang 13.0.0 (clang-1300.0.29.30)]"
  },
  "orig_nbformat": 4,
  "vscode": {
   "interpreter": {
    "hash": "10cf79b6252b6bfa5f219a04587890ec267e7f2fde6b173960de4ad2915a3b2e"
   }
  }
 },
 "nbformat": 4,
 "nbformat_minor": 2
}
